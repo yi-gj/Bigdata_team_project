{
  "cells": [
    {
      "cell_type": "markdown",
      "metadata": {
        "id": "view-in-github",
        "colab_type": "text"
      },
      "source": [
        "<a href=\"https://colab.research.google.com/github/4eonBlast/Bigdata_team_project/blob/main/vaccination_forecasting.ipynb\" target=\"_parent\"><img src=\"https://colab.research.google.com/assets/colab-badge.svg\" alt=\"Open In Colab\"/></a>"
      ]
    },
    {
      "cell_type": "markdown",
      "id": "8d118a61",
      "metadata": {
        "id": "8d118a61"
      },
      "source": [
        "### Dependencies"
      ]
    },
    {
      "cell_type": "code",
      "execution_count": 2,
      "id": "9508eefb",
      "metadata": {
        "colab": {
          "base_uri": "https://localhost:8080/"
        },
        "id": "9508eefb",
        "outputId": "d22030cc-276a-4af0-da93-d34e1f40ae04"
      },
      "outputs": [
        {
          "output_type": "stream",
          "name": "stdout",
          "text": [
            "Mounted at /content/drive\n"
          ]
        }
      ],
      "source": [
        "import numpy as np\n",
        "import pandas as pd\n",
        "from os import path\n",
        "import seaborn as sns\n",
        "from sklearn.preprocessing import StandardScaler, MinMaxScaler, LabelEncoder, PolynomialFeatures\n",
        "from sklearn.model_selection import train_test_split\n",
        "from sklearn.ensemble import RandomForestRegressor\n",
        "from sklearn.metrics import mean_squared_error\n",
        "from sklearn.linear_model import LinearRegression\n",
        "from lightgbm import LGBMRegressor\n",
        "from tensorflow.keras.models import Sequential\n",
        "from tensorflow.keras.layers import Dense\n",
        "from tensorflow.keras.layers import LSTM\n",
        "\n",
        "from google.colab import drive\n",
        "drive.mount('/content/drive')"
      ]
    },
    {
      "cell_type": "markdown",
      "id": "b7fb3641",
      "metadata": {
        "id": "b7fb3641"
      },
      "source": [
        "### 데이터 전처리"
      ]
    },
    {
      "cell_type": "code",
      "execution_count": 5,
      "id": "f86f6bb2",
      "metadata": {
        "scrolled": false,
        "id": "f86f6bb2"
      },
      "outputs": [],
      "source": [
        "DATA_DIRECTORY = '/content/drive/MyDrive/Bigdata/dataset'\n",
        "\n",
        "# 데이터 불러오기\n",
        "vaccination_df = pd.read_csv(path.join(DATA_DIRECTORY, 'country_vaccinations.csv'))\n",
        "gdp_growth_df = pd.read_csv(path.join(DATA_DIRECTORY, 'GDP_annual_growth_NEW.csv'))\n",
        "demographics_df = pd.read_csv(path.join(DATA_DIRECTORY, 'world_demographics.csv'))\n",
        "coronavirus_data_df = pd.read_csv(path.join(DATA_DIRECTORY, 'worldometer_coronavirus_daily_data.csv'))\n",
        "country_info = pd.read_csv(path.join(DATA_DIRECTORY,'countries_of_world.csv'))\n",
        "population_info = pd.read_csv(path.join(DATA_DIRECTORY,'population_by_country_2020.csv'))"
      ]
    },
    {
      "cell_type": "code",
      "execution_count": 6,
      "id": "1e93fbfb",
      "metadata": {
        "colab": {
          "base_uri": "https://localhost:8080/"
        },
        "id": "1e93fbfb",
        "outputId": "b6b5a433-c09d-464c-bb25-31f162b7f4cb"
      },
      "outputs": [
        {
          "output_type": "execute_result",
          "data": {
            "text/plain": [
              "country\n",
              "Singapore               91.91\n",
              "Portugal                88.56\n",
              "United Arab Emirates    88.40\n",
              "Cayman Islands          84.49\n",
              "Chile                   84.44\n",
              "Malta                   83.89\n",
              "Cuba                    82.06\n",
              "Iceland                 81.96\n",
              "South Korea             80.71\n",
              "Spain                   80.55\n",
              "Brunei                  79.66\n",
              "Cambodia                79.16\n",
              "Seychelles              78.81\n",
              "Faeroe Islands          77.76\n",
              "Malaysia                77.62\n",
              "Japan                   77.57\n",
              "Denmark                 76.91\n",
              "China                   76.89\n",
              "Canada                  76.50\n",
              "Uruguay                 76.35\n",
              "Name: people_fully_vaccinated_per_hundred, dtype: float64"
            ]
          },
          "metadata": {},
          "execution_count": 6
        }
      ],
      "source": [
        "# 국가별 최근 접종률\n",
        "vaccine_country_max = vaccination_df.groupby('country').max('people_fully_vaccinated_per_hundred')\n",
        "vaccine_country_max = vaccine_country_max['people_fully_vaccinated_per_hundred']\n",
        "\n",
        "# 예측 대상 국가들\n",
        "# target_countries = vaccine_country_max[(vaccine_country_max >= 50.) & (vaccine_country_max < 70.)]\n",
        "target_countries = vaccine_country_max[(vaccine_country_max >= 70.) & (vaccine_country_max < 100.)]\n",
        "target_countries.sort_values(ascending=False).head(20)"
      ]
    },
    {
      "cell_type": "code",
      "execution_count": null,
      "id": "d2b15703",
      "metadata": {
        "id": "d2b15703"
      },
      "outputs": [],
      "source": [
        "def extract_time_series(data, columns, countries):\n",
        "    # 특정 국가만\n",
        "    result = data[data.country.isin(countries)]\n",
        "    # 필요한 column만\n",
        "    columns = ['country', 'date'] + columns\n",
        "    result = result[columns]\n",
        "    # 날짜 변환\n",
        "    # 이걸 해야 뒤에 나오는 inner join이 제대로 이루어진다\n",
        "    result['date'] = pd.to_datetime(result['date'])\n",
        "    return result"
      ]
    },
    {
      "cell_type": "code",
      "execution_count": null,
      "id": "d8a7ddcf",
      "metadata": {
        "colab": {
          "base_uri": "https://localhost:8080/"
        },
        "id": "d8a7ddcf",
        "outputId": "0e12b76a-54ea-48d6-f1f0-14823fea4fb7"
      },
      "outputs": [
        {
          "output_type": "stream",
          "name": "stdout",
          "text": [
            "Index(['Aruba', 'Australia', 'Belgium', 'Bermuda', 'Bhutan', 'Brunei',\n",
            "       'Cambodia', 'Canada', 'Cayman Islands', 'Chile', 'China', 'Cuba',\n",
            "       'Denmark', 'Faeroe Islands', 'Finland', 'France', 'Iceland', 'Ireland',\n",
            "       'Isle of Man', 'Italy', 'Japan', 'Jersey', 'Kuwait', 'Malaysia',\n",
            "       'Malta', 'Mauritius', 'Netherlands', 'New Zealand', 'Niue',\n",
            "       'Northern Cyprus', 'Norway', 'Portugal', 'Qatar', 'Scotland',\n",
            "       'Seychelles', 'Singapore', 'South Korea', 'Spain', 'Sweden', 'Tokelau',\n",
            "       'United Arab Emirates', 'Uruguay', 'Wales'],\n",
            "      dtype='object', name='country')\n",
            "country                                0\n",
            "date                                   0\n",
            "people_fully_vaccinated_per_hundred    0\n",
            "dtype: int64\n"
          ]
        }
      ],
      "source": [
        "# COUNTRIES = ['South Korea']\n",
        "COUNTRIES = target_countries.keys()\n",
        "print(COUNTRIES)\n",
        "# 접종률 70% 넘긴 국가들\n",
        "sampled_vaccination = extract_time_series(vaccination_df, ['people_fully_vaccinated_per_hundred'], COUNTRIES)\n",
        "# 각 국가별로 null 확인\n",
        "# sampled_vaccination.groupby('country').people_fully_vaccinated_per_hundred.agg(lambda x: x.isnull().sum()).sort_values()\n",
        "\n",
        "# TODO 접종률 null값 보간 하기\n",
        "sampled_vaccination = sampled_vaccination.fillna(method='pad')\n",
        "# print(sampled_vaccination.head())\n",
        "# print(sampled_vaccination.isnull().sum())\n",
        "sampled_vaccination = sampled_vaccination.fillna(0)\n",
        "\n",
        "print(sampled_vaccination.isnull().sum())\n",
        "# 접종률 증가율 추가\n",
        "sampled_vaccination['vaccination_diff_1'] = sampled_vaccination.people_fully_vaccinated_per_hundred.diff()\n",
        "sampled_vaccination = sampled_vaccination.dropna()\n",
        "sampled_vaccination = sampled_vaccination[sampled_vaccination.vaccination_diff_1 >= 0]\n",
        "\n",
        "# sns.lineplot(data=sampled_vaccination.vaccination_diff_1)"
      ]
    },
    {
      "cell_type": "code",
      "execution_count": null,
      "id": "cbb5bc30",
      "metadata": {
        "id": "cbb5bc30"
      },
      "outputs": [],
      "source": [
        "# 70% 이상 국가들의 일간 확진판정\n",
        "sampled_covid_data = extract_time_series(coronavirus_data_df, ['daily_new_cases', 'daily_new_deaths'], COUNTRIES)\n",
        "# sampled_covid_data.groupby('country').daily_new_cases.agg(lambda x: x.isnull().sum()).sort_values()\n",
        "\n",
        "sampled_covid_data = sampled_covid_data.dropna()\n",
        "\n",
        "# sns.lineplot(data=sampled_covid_data)"
      ]
    },
    {
      "cell_type": "code",
      "execution_count": null,
      "id": "d42b9b59",
      "metadata": {
        "colab": {
          "base_uri": "https://localhost:8080/",
          "height": 206
        },
        "id": "d42b9b59",
        "outputId": "7fbec383-35e9-44c7-aa66-f8e5d1a85b5c"
      },
      "outputs": [
        {
          "output_type": "execute_result",
          "data": {
            "text/html": [
              "<div>\n",
              "<style scoped>\n",
              "    .dataframe tbody tr th:only-of-type {\n",
              "        vertical-align: middle;\n",
              "    }\n",
              "\n",
              "    .dataframe tbody tr th {\n",
              "        vertical-align: top;\n",
              "    }\n",
              "\n",
              "    .dataframe thead th {\n",
              "        text-align: right;\n",
              "    }\n",
              "</style>\n",
              "<table border=\"1\" class=\"dataframe\">\n",
              "  <thead>\n",
              "    <tr style=\"text-align: right;\">\n",
              "      <th></th>\n",
              "      <th>country</th>\n",
              "      <th>date</th>\n",
              "      <th>people_fully_vaccinated_per_hundred</th>\n",
              "      <th>vaccination_diff_1</th>\n",
              "      <th>daily_new_cases</th>\n",
              "      <th>daily_new_deaths</th>\n",
              "    </tr>\n",
              "  </thead>\n",
              "  <tbody>\n",
              "    <tr>\n",
              "      <th>10996</th>\n",
              "      <td>Uruguay</td>\n",
              "      <td>2021-11-28</td>\n",
              "      <td>76.20</td>\n",
              "      <td>0.00</td>\n",
              "      <td>167.0</td>\n",
              "      <td>4.0</td>\n",
              "    </tr>\n",
              "    <tr>\n",
              "      <th>10997</th>\n",
              "      <td>Uruguay</td>\n",
              "      <td>2021-11-29</td>\n",
              "      <td>76.24</td>\n",
              "      <td>0.04</td>\n",
              "      <td>156.0</td>\n",
              "      <td>1.0</td>\n",
              "    </tr>\n",
              "    <tr>\n",
              "      <th>10998</th>\n",
              "      <td>Uruguay</td>\n",
              "      <td>2021-11-30</td>\n",
              "      <td>76.25</td>\n",
              "      <td>0.01</td>\n",
              "      <td>191.0</td>\n",
              "      <td>1.0</td>\n",
              "    </tr>\n",
              "    <tr>\n",
              "      <th>10999</th>\n",
              "      <td>Uruguay</td>\n",
              "      <td>2021-12-01</td>\n",
              "      <td>76.27</td>\n",
              "      <td>0.02</td>\n",
              "      <td>271.0</td>\n",
              "      <td>0.0</td>\n",
              "    </tr>\n",
              "    <tr>\n",
              "      <th>11000</th>\n",
              "      <td>Uruguay</td>\n",
              "      <td>2021-12-02</td>\n",
              "      <td>76.29</td>\n",
              "      <td>0.02</td>\n",
              "      <td>309.0</td>\n",
              "      <td>1.0</td>\n",
              "    </tr>\n",
              "  </tbody>\n",
              "</table>\n",
              "</div>"
            ],
            "text/plain": [
              "       country       date  ...  daily_new_cases  daily_new_deaths\n",
              "10996  Uruguay 2021-11-28  ...            167.0               4.0\n",
              "10997  Uruguay 2021-11-29  ...            156.0               1.0\n",
              "10998  Uruguay 2021-11-30  ...            191.0               1.0\n",
              "10999  Uruguay 2021-12-01  ...            271.0               0.0\n",
              "11000  Uruguay 2021-12-02  ...            309.0               1.0\n",
              "\n",
              "[5 rows x 6 columns]"
            ]
          },
          "metadata": {},
          "execution_count": 85
        }
      ],
      "source": [
        "# 날짜로 inner join\n",
        "sampled_data = pd.merge(sampled_vaccination, sampled_covid_data, how='inner', on=['country', 'date'])\n",
        "sampled_data.tail()\n",
        "# sampled_data.info()"
      ]
    },
    {
      "cell_type": "code",
      "execution_count": null,
      "id": "7419103c",
      "metadata": {
        "id": "7419103c"
      },
      "outputs": [],
      "source": [
        "def series_to_supervised(data, window=1, lag=1, dropnan=True):\n",
        "    cols, names = list(), list()\n",
        "    # Input sequence (t-n, ... t-1)\n",
        "    for i in range(window, 0, -1):\n",
        "        cols.append(data.shift(i))\n",
        "        names += [('%s(t-%d)' % (col, i)) for col in data.columns]\n",
        "    # Current timestep (t=0)\n",
        "    cols.append(data)\n",
        "    names += [('%s(t)' % (col)) for col in data.columns]\n",
        "    # Target timestep (t=lag)\n",
        "    cols.append(data.shift(-lag))\n",
        "    names += [('%s(t+%d)' % (col, lag)) for col in data.columns]\n",
        "    # Put it all together\n",
        "    agg = pd.concat(cols, axis=1)\n",
        "    agg.columns = names\n",
        "    # Drop rows with NaN values\n",
        "    if dropnan:\n",
        "        agg.dropna(inplace=True)\n",
        "    return agg\n"
      ]
    },
    {
      "cell_type": "markdown",
      "id": "3d42d2bf",
      "metadata": {
        "id": "3d42d2bf"
      },
      "source": [
        "## 랜덤 포레스트\n",
        "\n",
        "한달 전 데이터를 가지고 다음날 당일 접종률 예측하기"
      ]
    },
    {
      "cell_type": "markdown",
      "id": "7d4f8dca",
      "metadata": {
        "id": "7d4f8dca"
      },
      "source": [
        "### 데이터 가공"
      ]
    },
    {
      "cell_type": "code",
      "execution_count": null,
      "id": "9503ec75",
      "metadata": {
        "id": "9503ec75"
      },
      "outputs": [],
      "source": [
        "# Normalize scale\n",
        "# scaler = StandardScaler()\n",
        "scaler = MinMaxScaler()\n",
        "columns = ['people_fully_vaccinated_per_hundred', 'vaccination_diff_1', 'daily_new_cases', 'daily_new_deaths']\n",
        "sampled_scaled_data = sampled_data.copy()\n",
        "sampled_scaled_data[columns] = scaler.fit_transform(sampled_data[columns])\n",
        "\n",
        "# 안 쓰는 column 삭제\n",
        "# sampled_scaled_data = sampled_scaled_data.drop(['date', 'people_fully_vaccinated_per_hundred'], axis=1)\n",
        "sampled_scaled_data = sampled_scaled_data.drop(['date', 'vaccination_diff_1'], axis=1)\n",
        "\n",
        "# sns.lineplot(data=sampled_scaled_data)"
      ]
    },
    {
      "cell_type": "code",
      "execution_count": null,
      "id": "472ccd3f",
      "metadata": {
        "id": "472ccd3f"
      },
      "outputs": [],
      "source": [
        "WINDOW = 29\n",
        "LAG = 1\n",
        "\n",
        "# 각 국가별로 따로따로 supervised 학습 데이터 생성\n",
        "sampled_ml_data = []\n",
        "for country_name in sampled_scaled_data.country.unique():\n",
        "    data = sampled_scaled_data[sampled_scaled_data.country == country_name]\n",
        "    data = series_to_supervised(data.drop('country', axis=1), WINDOW, LAG)\n",
        "    data['country'] = country_name\n",
        "\n",
        "    sampled_ml_data.append(data)\n",
        "\n",
        "# 그리고 합체\n",
        "sampled_ml_data = pd.concat(sampled_ml_data)\n",
        "# 예측하지 않을 column 삭제\n",
        "sampled_ml_data = sampled_ml_data.drop(['daily_new_cases(t+%d)' % LAG, 'daily_new_deaths(t+%d)' % LAG], axis=1)\n",
        "# 국가 -> 코드\n",
        "country_encoder = LabelEncoder()\n",
        "sampled_ml_data.country = country_encoder.fit_transform(sampled_ml_data.country)\n",
        "\n",
        "# sampled_ml_data.info()"
      ]
    },
    {
      "cell_type": "markdown",
      "id": "48e66054",
      "metadata": {
        "id": "48e66054"
      },
      "source": [
        "### 학습"
      ]
    },
    {
      "cell_type": "code",
      "execution_count": null,
      "id": "89c3bc18",
      "metadata": {
        "id": "89c3bc18"
      },
      "outputs": [],
      "source": [
        "# 학습/테스트 dataset 분리\n",
        "# LABEL_NAME = ['vaccination_diff_1(t+1)']\n",
        "LABEL_NAME = ['people_fully_vaccinated_per_hundred(t+1)']\n",
        "x, y = sampled_ml_data.drop(LABEL_NAME, axis=1), sampled_ml_data[LABEL_NAME]\n",
        "x_train, x_test, y_train, y_test = train_test_split(x, y, test_size=.3, shuffle=False)\n",
        "\n",
        "# x_train.info()\n",
        "# y_train.info()"
      ]
    },
    {
      "cell_type": "code",
      "execution_count": null,
      "id": "c633c83b",
      "metadata": {
        "colab": {
          "base_uri": "https://localhost:8080/"
        },
        "id": "c633c83b",
        "outputId": "11c499ce-1a21-4ff4-e751-7786d3a0d734"
      },
      "outputs": [
        {
          "output_type": "stream",
          "name": "stderr",
          "text": [
            "/usr/local/lib/python3.7/dist-packages/ipykernel_launcher.py:4: DataConversionWarning: A column-vector y was passed when a 1d array was expected. Please change the shape of y to (n_samples,), for example using ravel().\n",
            "  after removing the cwd from sys.path.\n"
          ]
        },
        {
          "output_type": "execute_result",
          "data": {
            "text/plain": [
              "0.033102637104709245"
            ]
          },
          "metadata": {},
          "execution_count": 61
        }
      ],
      "source": [
        "# 학습\n",
        "model = RandomForestRegressor(n_estimators=1000, n_jobs=-1, random_state=99)\n",
        "# model = LGBMRegressor(n_estimators=1000, learning_rate=0.02, n_jobs=-1, random_state=99)\n",
        "model.fit(x_train, y_train)\n",
        "\n",
        "# 모델 평가\n",
        "prediction_test = model.predict(x_test)\n",
        "error = mean_squared_error(y_test, prediction_test, squared=False)\n",
        "error"
      ]
    },
    {
      "cell_type": "code",
      "execution_count": null,
      "id": "6099180b",
      "metadata": {
        "id": "6099180b"
      },
      "outputs": [],
      "source": [
        "# column 하나만 inverse_transform\n",
        "def invTransform(scaler, data, colName):\n",
        "    colNames = scaler.feature_names_in_\n",
        "    dummy = pd.DataFrame(np.zeros((len(data), len(colNames))), columns=colNames)\n",
        "    dummy[colName] = data\n",
        "    dummy = pd.DataFrame(scaler.inverse_transform(dummy), columns=colNames)\n",
        "    return dummy[colName].values"
      ]
    },
    {
      "cell_type": "code",
      "execution_count": null,
      "id": "2d50e1d0",
      "metadata": {
        "id": "2d50e1d0"
      },
      "outputs": [],
      "source": [
        "# scaled -> 원래 값으로\n",
        "# label_result = invTransform(scaler, y_test.values, 'vaccination_diff_1')\n",
        "# prediction_result = invTransform(scaler, prediction_test, 'vaccination_diff_1')\n",
        "label_result = invTransform(scaler, y_test.values, 'people_fully_vaccinated_per_hundred')\n",
        "prediction_result = invTransform(scaler, prediction_test, 'people_fully_vaccinated_per_hundred')\n",
        "\n",
        "result = pd.DataFrame(data={\n",
        "    'label': label_result,\n",
        "    'prediction': prediction_result\n",
        "})\n",
        "sns.lineplot(data=result)"
      ]
    },
    {
      "cell_type": "markdown",
      "id": "b3649bf2",
      "metadata": {
        "id": "b3649bf2"
      },
      "source": [
        "## LSTM\n",
        "\n",
        "한달 전 데이터 가지고 다음날 접종률 예측하기"
      ]
    },
    {
      "cell_type": "markdown",
      "id": "9f0ade27",
      "metadata": {
        "id": "9f0ade27"
      },
      "source": [
        "### 데이터 가공"
      ]
    },
    {
      "cell_type": "code",
      "execution_count": null,
      "id": "337bd741",
      "metadata": {
        "id": "337bd741"
      },
      "outputs": [],
      "source": [
        "# Normalize scale\n",
        "# scaler = StandardScaler()\n",
        "scaler = MinMaxScaler()\n",
        "columns = ['people_fully_vaccinated_per_hundred', 'vaccination_diff_1', 'daily_new_cases', 'daily_new_deaths']\n",
        "sampled_scaled_data = sampled_data.copy()\n",
        "sampled_scaled_data[columns] = scaler.fit_transform(sampled_data[columns])\n",
        "\n",
        "# 안 쓰는 column 삭제\n",
        "sampled_scaled_data = sampled_scaled_data.drop(['date', 'vaccination_diff_1'], axis=1)\n",
        "\n",
        "# sns.lineplot(data=sampled_scaled_data)\n",
        "# sampled_scaled_data.info()"
      ]
    },
    {
      "cell_type": "code",
      "execution_count": null,
      "id": "5e2dcddc",
      "metadata": {
        "id": "5e2dcddc"
      },
      "outputs": [],
      "source": [
        "WINDOW = 30\n",
        "LAG = 1\n",
        "\n",
        "# 각 국가별로 따로따로 supervised 학습 데이터 생성\n",
        "sampled_ml_data = []\n",
        "for country_name in sampled_scaled_data.country.unique():\n",
        "    data = sampled_scaled_data[sampled_scaled_data.country == country_name]\n",
        "    data = series_to_supervised(data.drop('country', axis=1), WINDOW - 1, LAG)\n",
        "    data['country'] = country_name\n",
        "\n",
        "    sampled_ml_data.append(data)\n",
        "\n",
        "# 그리고 합체\n",
        "sampled_ml_data = pd.concat(sampled_ml_data)\n",
        "# 예측하지 않을 column 삭제\n",
        "sampled_ml_data = sampled_ml_data.drop(['daily_new_cases(t+%d)' % LAG, 'daily_new_deaths(t+%d)' % LAG, 'country'], axis=1)\n",
        "\n",
        "sampled_ml_data.info()"
      ]
    },
    {
      "cell_type": "markdown",
      "id": "fb59e20f",
      "metadata": {
        "id": "fb59e20f"
      },
      "source": [
        "### 학습"
      ]
    },
    {
      "cell_type": "code",
      "execution_count": null,
      "id": "28392d2c",
      "metadata": {
        "id": "28392d2c"
      },
      "outputs": [],
      "source": [
        "# 학습/테스트 dataset 분리\n",
        "LABEL_NAME = ['people_fully_vaccinated_per_hundred(t+1)']\n",
        "x, y = sampled_ml_data.drop(LABEL_NAME, axis=1), sampled_ml_data[LABEL_NAME]\n",
        "x_train, x_test, y_train, y_test = train_test_split(x, y, test_size=.3, shuffle=False)\n",
        "\n",
        "# x_train.info()\n",
        "# y_train.info()"
      ]
    },
    {
      "cell_type": "code",
      "execution_count": null,
      "id": "bc2b7b85",
      "metadata": {
        "id": "bc2b7b85"
      },
      "outputs": [],
      "source": [
        "# LSTM에 맞게 크기 조정\n",
        "x_train_reshaped = x_train.values.reshape((x_train.shape[0], WINDOW, -1))\n",
        "x_test_reshaped = x_test.values.reshape((x_test.shape[0], WINDOW, -1))\n",
        "\n",
        "# 학습\n",
        "model = Sequential()\n",
        "model.add(LSTM(64, input_shape=(x_train_reshaped.shape[1], x_train_reshaped.shape[2])))\n",
        "model.add(Dense(1))\n",
        "model.compile(loss='mae', optimizer='adam')\n",
        "history = model.fit(x_train_reshaped, y_train, epochs=100, batch_size=256, validation_data=(x_test_reshaped, y_test), verbose=2, shuffle=False)\n",
        "sns.lineplot(data=history.history)\n",
        "\n",
        "# 모델 평가\n",
        "prediction_test = model.predict(x_test_reshaped)\n",
        "error = mean_squared_error(y_test, prediction_test, squared=False)\n",
        "error\n"
      ]
    },
    {
      "cell_type": "code",
      "execution_count": null,
      "id": "b1d9e9a8",
      "metadata": {
        "colab": {
          "base_uri": "https://localhost:8080/",
          "height": 282
        },
        "id": "b1d9e9a8",
        "outputId": "8b64aa9f-3ea5-4e5e-9d76-55adb8eee63d"
      },
      "outputs": [
        {
          "output_type": "execute_result",
          "data": {
            "text/plain": [
              "<matplotlib.axes._subplots.AxesSubplot at 0x7f6cf7e8bc10>"
            ]
          },
          "metadata": {},
          "execution_count": 68
        },
        {
          "output_type": "display_data",
          "data": {
            "image/png": "[encoded data removed]",
            "text/plain": [
              "<Figure size 432x288 with 1 Axes>"
            ]
          },
          "metadata": {
            "needs_background": "light"
          }
        }
      ],
      "source": [
        "# scaled -> 원래 값으로\n",
        "label_result = invTransform(scaler, y_test.values, 'people_fully_vaccinated_per_hundred')\n",
        "prediction_result = invTransform(scaler, prediction_test, 'people_fully_vaccinated_per_hundred')\n",
        "\n",
        "result = pd.DataFrame(data={\n",
        "    'label': label_result,\n",
        "    'prediction': prediction_result\n",
        "})\n",
        "sns.lineplot(data=result)"
      ]
    },
    {
      "cell_type": "markdown",
      "id": "a3b5848c",
      "metadata": {
        "id": "a3b5848c"
      },
      "source": [
        "## 선형 회귀"
      ]
    },
    {
      "cell_type": "markdown",
      "id": "c714f636",
      "metadata": {
        "id": "c714f636"
      },
      "source": [
        "### 데이터 가공"
      ]
    },
    {
      "cell_type": "code",
      "execution_count": null,
      "id": "f5334e29",
      "metadata": {
        "id": "f5334e29"
      },
      "outputs": [],
      "source": [
        "def sigmoid(data):\n",
        "    return 1 / (1 + np.exp(-data))"
      ]
    },
    {
      "cell_type": "code",
      "execution_count": null,
      "id": "0c5739f5",
      "metadata": {
        "colab": {
          "base_uri": "https://localhost:8080/",
          "height": 449
        },
        "id": "0c5739f5",
        "outputId": "cf3da99a-fd07-47fd-f057-b52276dc295e"
      },
      "outputs": [
        {
          "output_type": "stream",
          "name": "stdout",
          "text": [
            "       country       date  ...  daily_new_cases  daily_new_deaths\n",
            "0        Aruba 2021-03-30  ...             80.0               3.0\n",
            "1        Aruba 2021-03-31  ...             69.0               1.0\n",
            "2        Aruba 2021-04-01  ...             60.0               0.0\n",
            "3        Aruba 2021-04-02  ...             57.0               0.0\n",
            "4        Aruba 2021-04-03  ...             47.0               0.0\n",
            "...        ...        ...  ...              ...               ...\n",
            "10996  Uruguay 2021-11-28  ...            167.0               4.0\n",
            "10997  Uruguay 2021-11-29  ...            156.0               1.0\n",
            "10998  Uruguay 2021-11-30  ...            191.0               1.0\n",
            "10999  Uruguay 2021-12-01  ...            271.0               0.0\n",
            "11000  Uruguay 2021-12-02  ...            309.0               1.0\n",
            "\n",
            "[11001 rows x 6 columns]\n"
          ]
        },
        {
          "output_type": "execute_result",
          "data": {
            "text/html": [
              "<div>\n",
              "<style scoped>\n",
              "    .dataframe tbody tr th:only-of-type {\n",
              "        vertical-align: middle;\n",
              "    }\n",
              "\n",
              "    .dataframe tbody tr th {\n",
              "        vertical-align: top;\n",
              "    }\n",
              "\n",
              "    .dataframe thead th {\n",
              "        text-align: right;\n",
              "    }\n",
              "</style>\n",
              "<table border=\"1\" class=\"dataframe\">\n",
              "  <thead>\n",
              "    <tr style=\"text-align: right;\">\n",
              "      <th></th>\n",
              "      <th>date</th>\n",
              "      <th>people_fully_vaccinated_per_hundred</th>\n",
              "      <th>vaccination_sigmoid</th>\n",
              "    </tr>\n",
              "  </thead>\n",
              "  <tbody>\n",
              "    <tr>\n",
              "      <th>9739</th>\n",
              "      <td>0.971223</td>\n",
              "      <td>0.986300</td>\n",
              "      <td>0.728356</td>\n",
              "    </tr>\n",
              "    <tr>\n",
              "      <th>9740</th>\n",
              "      <td>0.978417</td>\n",
              "      <td>0.991531</td>\n",
              "      <td>0.729390</td>\n",
              "    </tr>\n",
              "    <tr>\n",
              "      <th>9741</th>\n",
              "      <td>0.985612</td>\n",
              "      <td>0.993773</td>\n",
              "      <td>0.729832</td>\n",
              "    </tr>\n",
              "    <tr>\n",
              "      <th>9742</th>\n",
              "      <td>0.992806</td>\n",
              "      <td>0.997011</td>\n",
              "      <td>0.730470</td>\n",
              "    </tr>\n",
              "    <tr>\n",
              "      <th>9743</th>\n",
              "      <td>1.000000</td>\n",
              "      <td>1.000000</td>\n",
              "      <td>0.731059</td>\n",
              "    </tr>\n",
              "  </tbody>\n",
              "</table>\n",
              "</div>"
            ],
            "text/plain": [
              "          date  people_fully_vaccinated_per_hundred  vaccination_sigmoid\n",
              "9739  0.971223                             0.986300             0.728356\n",
              "9740  0.978417                             0.991531             0.729390\n",
              "9741  0.985612                             0.993773             0.729832\n",
              "9742  0.992806                             0.997011             0.730470\n",
              "9743  1.000000                             1.000000             0.731059"
            ]
          },
          "metadata": {},
          "execution_count": 90
        }
      ],
      "source": [
        "# 일단 한 국가를 대상으로\n",
        "print(sampled_data)\n",
        "sample_data_ml = sampled_data[sampled_data.country == 'South Korea']\n",
        "# 안 쓰는 column 삭제\n",
        "sample_data_ml = sample_data_ml.drop(['country', 'vaccination_diff_1', 'daily_new_cases', 'daily_new_deaths'], axis=1)\n",
        "\n",
        "# 날짜 -> 숫자\n",
        "sample_date = sample_data_ml.date.apply(lambda x: x.toordinal())\n",
        "sample_date = sample_date - sample_date.min()\n",
        "sample_data_ml.date = sample_date\n",
        "# 그리고 normalization\n",
        "scaler = MinMaxScaler(feature_range=(-1, 1))\n",
        "sample_scaled_data_ml = scaler.fit_transform(sample_data_ml)\n",
        "sample_data_ml[:] = sample_scaled_data_ml\n",
        "\n",
        "# Sigmoid 적용\n",
        "sample_data_ml['vaccination_sigmoid'] = sample_data_ml.people_fully_vaccinated_per_hundred.apply(sigmoid)\n",
        "# Polynomial 적용\n",
        "# poly_features = PolynomialFeatures(degree=3)\n",
        "# poly_vaccinations = poly_features.fit_transform(sample_data_ml[['date']])\n",
        "# poly_vaccinations = pd.DataFrame(poly_vaccinations[:, 2:])\n",
        "# sample_data_ml = pd.concat([sample_data_ml.reset_index(drop=True), poly_vaccinations], axis=1)\n",
        "\n",
        "# sample_data_ml.describe()\n",
        "sample_data_ml.tail()"
      ]
    },
    {
      "cell_type": "markdown",
      "id": "55a35b17",
      "metadata": {
        "id": "55a35b17"
      },
      "source": [
        "### 학습"
      ]
    },
    {
      "cell_type": "code",
      "execution_count": null,
      "metadata": {
        "colab": {
          "base_uri": "https://localhost:8080/",
          "height": 206
        },
        "id": "Wq4BbNiGxSPi",
        "outputId": "365db214-af2e-43f3-d475-4d6e816b42ec"
      },
      "outputs": [
        {
          "output_type": "execute_result",
          "data": {
            "text/html": [
              "<div>\n",
              "<style scoped>\n",
              "    .dataframe tbody tr th:only-of-type {\n",
              "        vertical-align: middle;\n",
              "    }\n",
              "\n",
              "    .dataframe tbody tr th {\n",
              "        vertical-align: top;\n",
              "    }\n",
              "\n",
              "    .dataframe thead th {\n",
              "        text-align: right;\n",
              "    }\n",
              "</style>\n",
              "<table border=\"1\" class=\"dataframe\">\n",
              "  <thead>\n",
              "    <tr style=\"text-align: right;\">\n",
              "      <th></th>\n",
              "      <th>people_fully_vaccinated_per_hundred</th>\n",
              "    </tr>\n",
              "  </thead>\n",
              "  <tbody>\n",
              "    <tr>\n",
              "      <th>9739</th>\n",
              "      <td>0.986300</td>\n",
              "    </tr>\n",
              "    <tr>\n",
              "      <th>9740</th>\n",
              "      <td>0.991531</td>\n",
              "    </tr>\n",
              "    <tr>\n",
              "      <th>9741</th>\n",
              "      <td>0.993773</td>\n",
              "    </tr>\n",
              "    <tr>\n",
              "      <th>9742</th>\n",
              "      <td>0.997011</td>\n",
              "    </tr>\n",
              "    <tr>\n",
              "      <th>9743</th>\n",
              "      <td>1.000000</td>\n",
              "    </tr>\n",
              "  </tbody>\n",
              "</table>\n",
              "</div>"
            ],
            "text/plain": [
              "      people_fully_vaccinated_per_hundred\n",
              "9739                             0.986300\n",
              "9740                             0.991531\n",
              "9741                             0.993773\n",
              "9742                             0.997011\n",
              "9743                             1.000000"
            ]
          },
          "metadata": {},
          "execution_count": 91
        }
      ],
      "source": [
        "# 데이터 분리\n",
        "LABEL_NAME = ['people_fully_vaccinated_per_hundred']\n",
        "x, y = sample_data_ml.drop(LABEL_NAME, axis=1), sample_data_ml[LABEL_NAME]\n",
        "x_train, x_test, y_train, y_test = train_test_split(x, y, test_size=.3, shuffle=False)\n",
        "\n",
        "# x.tail()\n",
        "y.tail()"
      ],
      "id": "Wq4BbNiGxSPi"
    },
    {
      "cell_type": "code",
      "execution_count": null,
      "id": "4caee08c",
      "metadata": {
        "colab": {
          "base_uri": "https://localhost:8080/"
        },
        "id": "4caee08c",
        "outputId": "9d7ab27e-13ac-40d6-a9c1-ad1b4302fe29"
      },
      "outputs": [
        {
          "output_type": "execute_result",
          "data": {
            "text/plain": [
              "0.012060053486670901"
            ]
          },
          "metadata": {},
          "execution_count": 92
        }
      ],
      "source": [
        "# 학습\n",
        "model = LinearRegression()\n",
        "model.fit(x_train, y_train)\n",
        "\n",
        "# 평가\n",
        "prediction = model.predict(x)\n",
        "error = mean_squared_error(y, prediction, squared=False)\n",
        "error"
      ]
    },
    {
      "cell_type": "code",
      "execution_count": null,
      "id": "64a034ba",
      "metadata": {
        "colab": {
          "base_uri": "https://localhost:8080/",
          "height": 282
        },
        "id": "64a034ba",
        "outputId": "bd93824d-4070-4a97-c65c-2f9ea6811f1c"
      },
      "outputs": [
        {
          "output_type": "execute_result",
          "data": {
            "text/plain": [
              "<matplotlib.axes._subplots.AxesSubplot at 0x7f6cf9f16690>"
            ]
          },
          "metadata": {},
          "execution_count": 93
        },
        {
          "output_type": "display_data",
          "data": {
            "image/png": "[encoded data removed]",
            "text/plain": [
              "<Figure size 432x288 with 1 Axes>"
            ]
          },
          "metadata": {
            "needs_background": "light"
          }
        }
      ],
      "source": [
        "label_result = invTransform(scaler, y.values, 'people_fully_vaccinated_per_hundred')\n",
        "prediction_result = invTransform(scaler, prediction, 'people_fully_vaccinated_per_hundred')\n",
        "\n",
        "result = pd.DataFrame(data={\n",
        "    'label': label_result,\n",
        "    'prediction': prediction_result\n",
        "})\n",
        "sns.lineplot(data=result)"
      ]
    },
    {
      "cell_type": "code",
      "execution_count": 13,
      "id": "3983887e",
      "metadata": {
        "colab": {
          "base_uri": "https://localhost:8080/",
          "height": 421
        },
        "id": "3983887e",
        "outputId": "ca44b839-7cda-4f15-8587-10ac112c10e9"
      },
      "outputs": [
        {
          "output_type": "stream",
          "name": "stderr",
          "text": [
            "/usr/local/lib/python3.7/dist-packages/ipykernel_launcher.py:5: SettingWithCopyWarning: \n",
            "A value is trying to be set on a copy of a slice from a DataFrame\n",
            "\n",
            "See the caveats in the documentation: https://pandas.pydata.org/pandas-docs/stable/user_guide/indexing.html#returning-a-view-versus-a-copy\n",
            "  \"\"\"\n"
          ]
        },
        {
          "output_type": "display_data",
          "data": {
            "image/png": "[encoded data removed]",
            "text/plain": [
              "<Figure size 432x288 with 1 Axes>"
            ]
          },
          "metadata": {
            "needs_background": "light"
          }
        },
        {
          "output_type": "stream",
          "name": "stdout",
          "text": [
            "             vaccine_max       gdp    target\n",
            "vaccine_max     1.000000  0.670072 -0.605892\n",
            "gdp             0.670072  1.000000 -0.532061\n",
            "target         -0.605892 -0.532061  1.000000\n"
          ]
        }
      ],
      "source": [
        "#GDP와 백신 접종률 비교, correlation 값 출력\n",
        "import matplotlib.pyplot as plt\n",
        "country_gdp = country_info.get(\"GDP ($ per capita)\")\n",
        "country_idx = country_info.get(\"Country\")\n",
        "for i in range(len(country_idx)):\n",
        "  country_idx[i]= country_idx[i].strip()\n",
        "\n",
        "country_gdp.index = country_idx\n",
        "\n",
        "vac_gdp_data =[]\n",
        "for k in vaccine_country_max.keys():\n",
        "  if k in country_gdp.keys():\n",
        "    if k in target_countries:\n",
        "      vac_gdp_data.append([k,vaccine_country_max[k],country_gdp[k],0])\n",
        "    else : \n",
        "      vac_gdp_data.append([k,vaccine_country_max[k],country_gdp[k],1])\n",
        "\n",
        "df = pd.DataFrame(vac_gdp_data,columns=[\"country\",\"vaccine_max\",\"gdp\",\"target\"])\n",
        "groups = df.groupby(\"target\")\n",
        "fig, ax = plt.subplots()\n",
        "for name,group in groups:\n",
        "  ax.plot(group.gdp, \n",
        "            group.vaccine_max, \n",
        "            marker='o', \n",
        "            linestyle='',\n",
        "            label=name)\n",
        "plt.show()\n",
        "\n",
        "print(df.corr())"
      ]
    },
    {
      "cell_type": "code",
      "source": [
        "#GDP와 평균 나이 비교, correlation 값 출력\n",
        "population_info = population_info[:201]\n",
        "med_age = population_info.get('Med. Age').astype(float)\n",
        "print(med_age.head())\n",
        "\n",
        "med_age_country = population_info.get('Country (or dependency)')\n",
        "med_age.index = med_age_country\n",
        "vac_age_data = []\n",
        "for k in vaccine_country_max.keys():\n",
        "  if k in med_age.keys():\n",
        "    if k in target_countries:\n",
        "      vac_age_data.append([k,vaccine_country_max[k],med_age[k],0])\n",
        "    else : \n",
        "      vac_age_data.append([k,vaccine_country_max[k],med_age[k],1])\n",
        "    \n",
        "df = pd.DataFrame(vac_age_data,columns=[\"country\",\"vaccine_max\",\"med_age\",\"target\"])\n",
        "groups = df.groupby(\"target\")\n",
        "fig, ax = plt.subplots()\n",
        "for name,group in groups:\n",
        "  ax.plot(group.med_age, \n",
        "            group.vaccine_max, \n",
        "            marker='o', \n",
        "            linestyle='',\n",
        "            label=name)\n",
        "plt.show()\n",
        "\n",
        "print(df.corr())"
      ],
      "metadata": {
        "colab": {
          "base_uri": "https://localhost:8080/",
          "height": 439
        },
        "id": "MMecVMn09qVI",
        "outputId": "df5a5ac9-2e94-4dde-ea17-a0b132d79eba"
      },
      "id": "MMecVMn09qVI",
      "execution_count": 24,
      "outputs": [
        {
          "output_type": "stream",
          "name": "stdout",
          "text": [
            "0    38.0\n",
            "1    28.0\n",
            "2    38.0\n",
            "3    30.0\n",
            "4    23.0\n",
            "Name: Med. Age, dtype: float64\n"
          ]
        },
        {
          "output_type": "display_data",
          "data": {
            "image/png": "[encoded data removed]",
            "text/plain": [
              "<Figure size 432x288 with 1 Axes>"
            ]
          },
          "metadata": {
            "needs_background": "light"
          }
        },
        {
          "output_type": "stream",
          "name": "stdout",
          "text": [
            "             vaccine_max   med_age    target\n",
            "vaccine_max     1.000000  0.761331 -0.641943\n",
            "med_age         0.761331  1.000000 -0.437560\n",
            "target         -0.641943 -0.437560  1.000000\n"
          ]
        }
      ]
    }
  ],
  "metadata": {
    "interpreter": {
      "hash": "44b20afc157236b2620e6e61fcf14ed6600beddff21e77274059eca461558687"
    },
    "kernelspec": {
      "display_name": "Python 3.9.9 64-bit ('.venv': venv)",
      "name": "python3"
    },
    "language_info": {
      "codemirror_mode": {
        "name": "ipython",
        "version": 3
      },
      "file_extension": ".py",
      "mimetype": "text/x-python",
      "name": "python",
      "nbconvert_exporter": "python",
      "pygments_lexer": "ipython3",
      "version": "3.9.9"
    },
    "colab": {
      "name": "vaccination_forecasting.ipynb",
      "provenance": [],
      "collapsed_sections": [],
      "include_colab_link": true
    }
  },
  "nbformat": 4,
  "nbformat_minor": 5
}
